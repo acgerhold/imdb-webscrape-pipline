{
 "cells": [
  {
   "cell_type": "code",
   "execution_count": null,
   "id": "77e5cb6c",
   "metadata": {},
   "outputs": [],
   "source": [
    "import requests\n",
    "from bs4 import BeautifulSoup  \n",
    "import pandas as pd\n",
    "import re\n",
    "import numpy as np\n",
    "import matplotlib.pyplot as plt"
   ]
  },
  {
   "cell_type": "code",
   "execution_count": null,
   "id": "2acf83c1",
   "metadata": {},
   "outputs": [],
   "source": [
    "url = 'https://www.imdb.com/search/title/?genres=fantasy' \n",
    "response = requests.get(url)\n",
    "response"
   ]
  },
  {
   "cell_type": "code",
   "execution_count": null,
   "id": "9d4edd71",
   "metadata": {},
   "outputs": [],
   "source": [
    "soup = BeautifulSoup(response.content, 'html.parser')"
   ]
  },
  {
   "cell_type": "code",
   "execution_count": null,
   "id": "abf64fe4",
   "metadata": {},
   "outputs": [],
   "source": [
    "genreloop = str(re.search(\"(50) (.+?) (Movies)\", soup.title.text)[2])\n",
    "genreloop"
   ]
  },
  {
   "cell_type": "code",
   "execution_count": null,
   "id": "f6e4c877",
   "metadata": {},
   "outputs": [],
   "source": [
    "maxtitles = re.search(\"of (.+?) (titles)\",soup.find('div', class_ = \"desc\").span.text)[1]\n",
    "maxtitles = maxtitles.replace(',','')\n",
    "maxtitles = int(maxtitles)\n",
    "maxtitles"
   ]
  },
  {
   "cell_type": "code",
   "execution_count": null,
   "id": "6d90d897",
   "metadata": {},
   "outputs": [],
   "source": [
    "title = []\n",
    "release = []\n",
    "maturity = []\n",
    "duration = []\n",
    "genre = []\n",
    "rating = []\n",
    "meta = []\n",
    "gross = []\n",
    "votes = []\n",
    "desc = []\n",
    "director = []\n",
    "stars = []\n",
    "thumbnail = []"
   ]
  },
  {
   "cell_type": "code",
   "execution_count": null,
   "id": "ed7dac90",
   "metadata": {},
   "outputs": [],
   "source": [
    "pages = np.arange(1,10000,50)\n",
    "for page in pages:\n",
    "    page = requests.get('https://www.imdb.com/search/title/?genres=' + genreloop + '&start=' + str(page) + '&ref_=adv_nxt')\n",
    "    soup = BeautifulSoup(page.content, 'html.parser')\n",
    "    data = soup.find_all('div', attrs={'class':'lister-item mode-advanced'})\n",
    "    for entry in data:   \n",
    "# [Title] - 'title'    \n",
    "        titlef = entry.h3.a.text\n",
    "        title.append(titlef)\n",
    "# [Release Year] - 'release'\n",
    "        releasef = entry.h3.find('span', class_ = 'lister-item-year text-muted unbold').text.replace('(','').replace(')','')\n",
    "        release.append(releasef)\n",
    "# [Maturity Rating] - 'maturity'   \n",
    "        maturityf = entry.p.find('span', class_ = 'certificate').text if entry.p.find('span', class_ = 'certificate') else 'N/A'\n",
    "        maturity.append(maturityf)\n",
    "# [Duration(min)] - 'duration'    \n",
    "        durationf = entry.p.find('span', class_ = 'runtime').text.replace(' min','') if entry.p.find('span', class_ = 'runtime') else 'N/A'\n",
    "        duration.append(durationf)\n",
    "# [Genre] - 'genre'\n",
    "        genref = entry.p.find('span', class_ = 'genre').text.replace('\\n','').strip()\n",
    "        genre.append(genref)\n",
    "# [User Rating(/10)] - 'rating'    \n",
    "        ratingf = entry.find('div', class_ = 'inline-block ratings-imdb-rating').text.replace('\\n','') if entry.find('div', class_ = 'inline-block ratings-imdb-rating') else 'N/A'\n",
    "        rating.append(ratingf)\n",
    "# [Metascore] - 'meta'\n",
    "        metaf = entry.find('span', class_ = 'metascore').text.strip() if entry.find('span', class_ = 'metascore') else 'N/A'\n",
    "        meta.append(metaf)\n",
    "# [Gross($)] - 'gross'  \n",
    "        valuef1 = entry.find_all('span', attrs = {'name':'nv'})\n",
    "        if len(valuef1) > 1: \n",
    "            grossf = valuef1[1]\n",
    "            gross.append(grossf.text)\n",
    "        else: \n",
    "            grossf = 'N/A'\n",
    "            gross.append(grossf)\n",
    "# [User Votes(ct.)] - 'votes'   \n",
    "        votef = entry.find('span', attrs = {'name':'nv'}).text if entry.find('span', attrs = {'name':'nv'}) else 'N/A'\n",
    "        votes.append(votef)\n",
    "# [Description] - 'desc'\n",
    "        valuef2 = entry.find_all('p', class_ = 'text-muted')\n",
    "        descf = valuef2[1].text.replace('\\n','')\n",
    "        desc.append(descf)\n",
    "# [Director] - 'director'\n",
    "        directstarsf = entry.find('p', class_ = '').find_all('a')\n",
    "        if len(directstarsf) >= 5:\n",
    "            directorf = directstarsf[0].text\n",
    "            director.append(directorf)\n",
    "        else:\n",
    "            directorf = 'N/A'\n",
    "            director.append(directorf)\n",
    "# [Stars] - 'stars'\n",
    "        starslist = []\n",
    "        if len(directstarsf) >= 5:\n",
    "            starsf = directstarsf[1:]\n",
    "            for star in starsf:\n",
    "                starslist.append(star.text)\n",
    "            stars.append(starslist)\n",
    "        else:\n",
    "            starsf = directstarsf\n",
    "            for star in starsf:\n",
    "                starslist.append(star.text)\n",
    "            stars.append(starslist)\n",
    "# [Movie Thumbnail Images]' - thumbnail       \n",
    "        def getImage(image):\n",
    "            try:\n",
    "                return image.get('loadlate')\n",
    "            except:\n",
    "                return 'NA'\n",
    "        image = entry.find(\"img\",\"loadlate\")\n",
    "        link = getImage(image)\n",
    "        thumbnail.append(link)"
   ]
  },
  {
   "cell_type": "code",
   "execution_count": null,
   "id": "b5c310ac",
   "metadata": {},
   "outputs": [],
   "source": [
    "df = pd.DataFrame({'Title':title, 'Release Year':release, 'Maturity Rating':maturity, 'Duration (min)':duration, 'Genre':genre, 'User Rating':rating, 'Num of Votes (Count)':votes, 'Meta Score':meta, 'Amt Grossed ($M)':gross, 'Description':desc, 'Director':director, 'Stars':stars, 'Thumbnail':thumbnail})\n",
    "df.to_csv('C:/Users/acger/Downloads/' + genreloop +'.csv')\n",
    "df.head()"
   ]
  },
  {
   "cell_type": "code",
   "execution_count": null,
   "id": "0ca7e79d",
   "metadata": {
    "scrolled": false
   },
   "outputs": [],
   "source": [
    "df['Stars'] = df['Stars'].astype('str').str.replace('[','').str.replace(']','')\n",
    "df['Amt Grossed ($M)'] = (df['Amt Grossed ($M)'].astype('str').str.replace('$','').str.replace('M',''))\n",
    "df['Release Year'] = df['Release Year'].str.strip()\n",
    "df['Dataframe'] = str(genreloop)\n",
    "df.head()"
   ]
  },
  {
   "cell_type": "code",
   "execution_count": null,
   "id": "d5560e44",
   "metadata": {},
   "outputs": [],
   "source": [
    "df.to_csv('C:/Users/acger/Downloads/' + genreloop + 'cleaned.csv')"
   ]
  },
  {
   "cell_type": "code",
   "execution_count": null,
   "id": "57b827d8",
   "metadata": {},
   "outputs": [],
   "source": [
    "fantasydf = df"
   ]
  },
  {
   "cell_type": "code",
   "execution_count": null,
   "id": "3f0c8a2b",
   "metadata": {},
   "outputs": [],
   "source": [
    "%store fantasydf"
   ]
  },
  {
   "cell_type": "code",
   "execution_count": null,
   "id": "11f922a1",
   "metadata": {},
   "outputs": [],
   "source": []
  }
 ],
 "metadata": {
  "kernelspec": {
   "display_name": "Python 3",
   "language": "python",
   "name": "python3"
  },
  "language_info": {
   "codemirror_mode": {
    "name": "ipython",
    "version": 3
   },
   "file_extension": ".py",
   "mimetype": "text/x-python",
   "name": "python",
   "nbconvert_exporter": "python",
   "pygments_lexer": "ipython3",
   "version": "3.8.8"
  }
 },
 "nbformat": 4,
 "nbformat_minor": 5
}
