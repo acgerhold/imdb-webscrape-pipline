{
 "cells": [
  {
   "cell_type": "code",
   "execution_count": null,
   "id": "f0b01e88",
   "metadata": {},
   "outputs": [],
   "source": [
    "import requests\n",
    "from bs4 import BeautifulSoup  \n",
    "import pandas as pd\n",
    "import re\n",
    "import numpy as np\n",
    "import matplotlib.pyplot as plt"
   ]
  },
  {
   "cell_type": "markdown",
   "id": "e0a4e68b",
   "metadata": {},
   "source": [
    "### Run the entire 'master' notebook from 'main'"
   ]
  },
  {
   "cell_type": "code",
   "execution_count": null,
   "id": "15322d1e",
   "metadata": {},
   "outputs": [],
   "source": [
    "%run Master.ipynb"
   ]
  },
  {
   "cell_type": "code",
   "execution_count": null,
   "id": "c8656f0b",
   "metadata": {},
   "outputs": [],
   "source": [
    "%store -r masterdf"
   ]
  },
  {
   "cell_type": "code",
   "execution_count": null,
   "id": "f6a705fd",
   "metadata": {},
   "outputs": [],
   "source": [
    "masterdf"
   ]
  }
 ],
 "metadata": {
  "kernelspec": {
   "display_name": "Python 3",
   "language": "python",
   "name": "python3"
  },
  "language_info": {
   "codemirror_mode": {
    "name": "ipython",
    "version": 3
   },
   "file_extension": ".py",
   "mimetype": "text/x-python",
   "name": "python",
   "nbconvert_exporter": "python",
   "pygments_lexer": "ipython3",
   "version": "3.8.8"
  }
 },
 "nbformat": 4,
 "nbformat_minor": 5
}
