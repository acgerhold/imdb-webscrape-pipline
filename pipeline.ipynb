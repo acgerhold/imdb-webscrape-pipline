{
 "cells": [
  {
   "cell_type": "markdown",
   "id": "a498b461",
   "metadata": {},
   "source": [
    "### Run each genre's notebook from this single notebook and store the dataframe"
   ]
  },
  {
   "cell_type": "code",
   "execution_count": null,
   "id": "baaac4eb",
   "metadata": {},
   "outputs": [],
   "source": [
    "%run Crime.ipynb"
   ]
  },
  {
   "cell_type": "code",
   "execution_count": null,
   "id": "03151862",
   "metadata": {},
   "outputs": [],
   "source": [
    "%store -r crimedf"
   ]
  },
  {
   "cell_type": "code",
   "execution_count": null,
   "id": "debdbe47",
   "metadata": {},
   "outputs": [],
   "source": [
    "%run actioncom.ipynb"
   ]
  },
  {
   "cell_type": "code",
   "execution_count": null,
   "id": "8fce5fc8",
   "metadata": {},
   "outputs": [],
   "source": [
    "%store -r actioncomedydf"
   ]
  },
  {
   "cell_type": "code",
   "execution_count": null,
   "id": "e66fc652",
   "metadata": {},
   "outputs": [],
   "source": [
    "%run Action.ipynb"
   ]
  },
  {
   "cell_type": "code",
   "execution_count": null,
   "id": "56308ff8",
   "metadata": {},
   "outputs": [],
   "source": [
    "%store -r actiondf"
   ]
  },
  {
   "cell_type": "code",
   "execution_count": null,
   "id": "2d20fed6",
   "metadata": {},
   "outputs": [],
   "source": [
    "%run Adventure.ipynb"
   ]
  },
  {
   "cell_type": "code",
   "execution_count": null,
   "id": "3f84bf0f",
   "metadata": {},
   "outputs": [],
   "source": [
    "%store -r adventuredf"
   ]
  },
  {
   "cell_type": "code",
   "execution_count": null,
   "id": "4d5ae18e",
   "metadata": {},
   "outputs": [],
   "source": [
    "%run Animation.ipynb"
   ]
  },
  {
   "cell_type": "code",
   "execution_count": null,
   "id": "f416bd4c",
   "metadata": {},
   "outputs": [],
   "source": [
    "%store -r animationdf"
   ]
  },
  {
   "cell_type": "code",
   "execution_count": null,
   "id": "12f95a4e",
   "metadata": {},
   "outputs": [],
   "source": [
    "%run Comedy.ipynb"
   ]
  },
  {
   "cell_type": "code",
   "execution_count": null,
   "id": "8d3af859",
   "metadata": {},
   "outputs": [],
   "source": [
    "%store -r comedydf"
   ]
  },
  {
   "cell_type": "code",
   "execution_count": null,
   "id": "5318dfb2",
   "metadata": {},
   "outputs": [],
   "source": [
    "%run Drama.ipynb"
   ]
  },
  {
   "cell_type": "code",
   "execution_count": null,
   "id": "5f79e5b0",
   "metadata": {},
   "outputs": [],
   "source": [
    "%store -r dramadf"
   ]
  },
  {
   "cell_type": "code",
   "execution_count": null,
   "id": "6cbd3207",
   "metadata": {},
   "outputs": [],
   "source": [
    "%run Fantasy.ipynb"
   ]
  },
  {
   "cell_type": "code",
   "execution_count": null,
   "id": "dba5aba5",
   "metadata": {},
   "outputs": [],
   "source": [
    "%store -r fantasydf"
   ]
  },
  {
   "cell_type": "code",
   "execution_count": null,
   "id": "00850ce8",
   "metadata": {
    "scrolled": true
   },
   "outputs": [],
   "source": [
    "%run Horror.ipynb"
   ]
  },
  {
   "cell_type": "code",
   "execution_count": null,
   "id": "3c1e94d4",
   "metadata": {},
   "outputs": [],
   "source": [
    "%store horrordf"
   ]
  },
  {
   "cell_type": "code",
   "execution_count": null,
   "id": "a0967889",
   "metadata": {},
   "outputs": [],
   "source": [
    "%run Mystery.ipynb"
   ]
  },
  {
   "cell_type": "code",
   "execution_count": null,
   "id": "23092aab",
   "metadata": {},
   "outputs": [],
   "source": [
    "%store mysterydf"
   ]
  },
  {
   "cell_type": "code",
   "execution_count": null,
   "id": "dde63dac",
   "metadata": {},
   "outputs": [],
   "source": [
    "%run Romance.ipynb"
   ]
  },
  {
   "cell_type": "code",
   "execution_count": null,
   "id": "917683ba",
   "metadata": {},
   "outputs": [],
   "source": [
    "%store romancedf"
   ]
  },
  {
   "cell_type": "code",
   "execution_count": null,
   "id": "d0d6927a",
   "metadata": {},
   "outputs": [],
   "source": [
    "%run romcom.ipynb"
   ]
  },
  {
   "cell_type": "code",
   "execution_count": null,
   "id": "d2ffbd74",
   "metadata": {},
   "outputs": [],
   "source": [
    "%store romanticcomedydf"
   ]
  },
  {
   "cell_type": "code",
   "execution_count": null,
   "id": "b8cb8f0e",
   "metadata": {},
   "outputs": [],
   "source": [
    "%run Sci-Fi.ipynb"
   ]
  },
  {
   "cell_type": "code",
   "execution_count": null,
   "id": "ca1beab0",
   "metadata": {},
   "outputs": [],
   "source": [
    "%store scifidf"
   ]
  },
  {
   "cell_type": "code",
   "execution_count": null,
   "id": "141c602d",
   "metadata": {},
   "outputs": [],
   "source": [
    "%run Thriller.ipynb"
   ]
  },
  {
   "cell_type": "code",
   "execution_count": null,
   "id": "b0d910cb",
   "metadata": {},
   "outputs": [],
   "source": [
    "%store thrillerdf"
   ]
  },
  {
   "cell_type": "markdown",
   "id": "1ef8bece",
   "metadata": {},
   "source": [
    "### Concatenate each genre's dataframe together"
   ]
  },
  {
   "cell_type": "code",
   "execution_count": null,
   "id": "08bf01ea",
   "metadata": {},
   "outputs": [],
   "source": [
    "masterdf = pd.concat([actioncomedydf, actiondf, adventuredf, animationdf, comedydf, crimedf, dramadf, fantasydf, horrordf, mysterydf, romancedf, romanticcomedydf, scifidf, thrillerdf])"
   ]
  },
  {
   "cell_type": "markdown",
   "id": "5d2db289",
   "metadata": {},
   "source": [
    "### Clean the dataframe once more"
   ]
  },
  {
   "cell_type": "code",
   "execution_count": null,
   "id": "11404010",
   "metadata": {},
   "outputs": [],
   "source": [
    "#Release Year to datetime > float > str.replace > .str[:4] first 4 characters > dt.year\n",
    "masterdf['Release Year'] = masterdf['Release Year'].str.replace('-','').str.replace('- ','').str.replace('I','').str.replace('–','').str.replace('(','').str.replace(')','').str.replace(' ','').str.replace('X','').str.replace('V','')\n",
    "masterdf['Release Year'] = masterdf['Release Year'].str.replace('TMovie','').str.replace('PodcastSeries','').str.replace('TSpecial','').str.replace('Musicideo','').str.replace('TShort','').str.replace('ideo','').str.replace('Game','')\n",
    "masterdf['Release Year'] = masterdf['Release Year'].str[:4]\n",
    "masterdf['Release Year'] = masterdf['Release Year'].astype('datetime64')\n",
    "masterdf['Release Year'] = masterdf['Release Year'].dt.year\n",
    "#Maturity rating 'N/A' to np.nan\n",
    "masterdf['Maturity Rating'] = masterdf['Maturity Rating'].replace('N/A', np.nan)\n",
    "#Duration to float > N/A to np.nan > str.replace ','\n",
    "masterdf['Duration (min)'] = masterdf['Duration (min)'].replace('N/A', np.nan).str.replace(',','')\n",
    "masterdf['Duration (min)'] = masterdf['Duration (min)'].astype('float')\n",
    "#User rating to float > N/A to np.nan\n",
    "masterdf['User Rating'] = masterdf['User Rating'].replace('N/A', np.nan).astype('float')\n",
    "#Num of votes to float > np.nan > str.replace '$' , ',' , 'M'\n",
    "masterdf['Num of Votes (Count)'] = masterdf['Num of Votes (Count)'].replace('N/A', np.nan).str.replace(',','').str.replace('$','').str.replace('M','').astype('float')\n",
    "#Meta Score to float > replace N/A w np.nan\n",
    "masterdf['Meta Score'] = masterdf['Meta Score'].replace('N/A',np.nan).astype('float')\n",
    "#Gross to float and replace with np.nan\n",
    "masterdf['Amt Grossed ($M)'] = masterdf['Amt Grossed ($M)'].replace('N/A', np.nan).astype('float')"
   ]
  },
  {
   "cell_type": "code",
   "execution_count": null,
   "id": "f0b0c3c6",
   "metadata": {},
   "outputs": [],
   "source": [
    "masterdf.head()"
   ]
  },
  {
   "cell_type": "markdown",
   "id": "05d704dc",
   "metadata": {},
   "source": [
    "### Confirm there are 10,000 titles in each genre"
   ]
  },
  {
   "cell_type": "code",
   "execution_count": null,
   "id": "c4e26f0d",
   "metadata": {
    "scrolled": true
   },
   "outputs": [],
   "source": [
    "masterdf.Dataframe.value_counts()"
   ]
  },
  {
   "cell_type": "code",
   "execution_count": null,
   "id": "6e22def8",
   "metadata": {},
   "outputs": [],
   "source": [
    "# masterdf.to_csv('C:/Users/acger/Downloads/master.csv')"
   ]
  },
  {
   "cell_type": "code",
   "execution_count": null,
   "id": "f940dc40",
   "metadata": {},
   "outputs": [],
   "source": [
    "%store masterdf"
   ]
  }
 ],
 "metadata": {
  "kernelspec": {
   "display_name": "Python 3",
   "language": "python",
   "name": "python3"
  },
  "language_info": {
   "codemirror_mode": {
    "name": "ipython",
    "version": 3
   },
   "file_extension": ".py",
   "mimetype": "text/x-python",
   "name": "python",
   "nbconvert_exporter": "python",
   "pygments_lexer": "ipython3",
   "version": "3.8.8"
  }
 },
 "nbformat": 4,
 "nbformat_minor": 5
}
